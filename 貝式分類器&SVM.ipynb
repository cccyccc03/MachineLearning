{
  "nbformat": 4,
  "nbformat_minor": 0,
  "metadata": {
    "colab": {
      "provenance": [],
      "authorship_tag": "ABX9TyNBjQE8CYt14A5MLhZY6Efg",
      "include_colab_link": true
    },
    "kernelspec": {
      "name": "python3",
      "display_name": "Python 3"
    },
    "language_info": {
      "name": "python"
    }
  },
  "cells": [
    {
      "cell_type": "markdown",
      "metadata": {
        "id": "view-in-github",
        "colab_type": "text"
      },
      "source": [
        "<a href=\"https://colab.research.google.com/github/cccyccc03/MachineLearning/blob/main/%E8%B2%9D%E5%BC%8F%E5%88%86%E9%A1%9E%E5%99%A8%26SVM.ipynb\" target=\"_parent\"><img src=\"https://colab.research.google.com/assets/colab-badge.svg\" alt=\"Open In Colab\"/></a>"
      ]
    },
    {
      "cell_type": "markdown",
      "source": [
        "貝式分類器-程式碼"
      ],
      "metadata": {
        "id": "bp08IaP2cG_7"
      }
    },
    {
      "cell_type": "code",
      "execution_count": null,
      "metadata": {
        "colab": {
          "base_uri": "https://localhost:8080/"
        },
        "id": "KRfqwLvTfE0U",
        "outputId": "377e0c86-7f07-4bcc-c4ee-a88457c7f210"
      },
      "outputs": [
        {
          "output_type": "stream",
          "name": "stdout",
          "text": [
            "0.9428571428571428\n",
            "1.0\n"
          ]
        }
      ],
      "source": [
        "from sklearn import datasets\n",
        "from sklearn.model_selection import train_test_split\n",
        "from sklearn.naive_bayes import GaussianNB\n",
        "iris=datasets. load_iris()\n",
        "train_data,test_data,train_target,test_target=train_test_split(iris.data,iris.target,test_size=0.3,random_state=0)\n",
        "clf=GaussianNB()\n",
        "clf.fit(train_data,train_target)\n",
        "print(clf.score(train_data,train_target))\n",
        "print(clf.score(test_data,test_target))"
      ]
    },
    {
      "cell_type": "markdown",
      "source": [
        "SVM-程式碼"
      ],
      "metadata": {
        "id": "tU3wbLd8cLCh"
      }
    },
    {
      "cell_type": "code",
      "source": [
        "from sklearn import datasets\n",
        "from sklearn.model_selection import train_test_split\n",
        "from sklearn import svm\n",
        "iris=datasets. load_iris()\n",
        "train_data,test_data,train_target,test_target=train_test_split(iris.data,iris.target,test_size=0.3,random_state=0)\n",
        "clf=svm.SVC(kernel='poly',gamma='auto',C=100)\n",
        "clf.fit(train_data,train_target)\n",
        "print(clf.score(train_data,train_target))\n",
        "print(clf.score(test_data,test_target))"
      ],
      "metadata": {
        "colab": {
          "base_uri": "https://localhost:8080/"
        },
        "id": "upzw1FfLk77f",
        "outputId": "b27ed63a-bfa9-4853-bea0-94d15a588523"
      },
      "execution_count": null,
      "outputs": [
        {
          "output_type": "stream",
          "name": "stdout",
          "text": [
            "1.0\n",
            "0.9777777777777777\n"
          ]
        }
      ]
    }
  ]
}